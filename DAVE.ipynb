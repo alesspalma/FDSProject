{
 "cells": [
  {
   "cell_type": "markdown",
   "metadata": {},
   "source": [
    "## Codice comune"
   ]
  },
  {
   "cell_type": "markdown",
   "metadata": {},
   "source": [
    "Innanzitutto abbiamo preso il dataset iniziale da [qui](https://www.kaggle.com/shivamb/go-emotions-google-emotions-dataset) e con il seguente codice abbiamo: tolto i sample poco chiari, i doppioni, le colonne inutili and computed the ground truths to predict:"
   ]
  },
  {
   "cell_type": "code",
   "execution_count": 1,
   "metadata": {},
   "outputs": [
    {
     "name": "stderr",
     "output_type": "stream",
     "text": [
      "[nltk_data] Downloading package stopwords to\n",
      "[nltk_data]     C:\\Users\\dsant\\AppData\\Roaming\\nltk_data...\n",
      "[nltk_data]   Package stopwords is already up-to-date!\n"
     ]
    },
    {
     "data": {
      "text/html": [
       "<div>\n",
       "<style scoped>\n",
       "    .dataframe tbody tr th:only-of-type {\n",
       "        vertical-align: middle;\n",
       "    }\n",
       "\n",
       "    .dataframe tbody tr th {\n",
       "        vertical-align: top;\n",
       "    }\n",
       "\n",
       "    .dataframe thead th {\n",
       "        text-align: right;\n",
       "    }\n",
       "</style>\n",
       "<table border=\"1\" class=\"dataframe\">\n",
       "  <thead>\n",
       "    <tr style=\"text-align: right;\">\n",
       "      <th></th>\n",
       "      <th>text</th>\n",
       "      <th>y</th>\n",
       "    </tr>\n",
       "  </thead>\n",
       "  <tbody>\n",
       "    <tr>\n",
       "      <th>0</th>\n",
       "      <td>That game hurt.</td>\n",
       "      <td>1</td>\n",
       "    </tr>\n",
       "    <tr>\n",
       "      <th>2</th>\n",
       "      <td>You do right, if you don't care then fuck 'em!</td>\n",
       "      <td>2</td>\n",
       "    </tr>\n",
       "    <tr>\n",
       "      <th>3</th>\n",
       "      <td>Man I love reddit.</td>\n",
       "      <td>0</td>\n",
       "    </tr>\n",
       "    <tr>\n",
       "      <th>4</th>\n",
       "      <td>[NAME] was nowhere near them, he was by the Fa...</td>\n",
       "      <td>2</td>\n",
       "    </tr>\n",
       "    <tr>\n",
       "      <th>5</th>\n",
       "      <td>Right? Considering it’s such an important docu...</td>\n",
       "      <td>0</td>\n",
       "    </tr>\n",
       "  </tbody>\n",
       "</table>\n",
       "</div>"
      ],
      "text/plain": [
       "                                                text  y\n",
       "0                                    That game hurt.  1\n",
       "2     You do right, if you don't care then fuck 'em!  2\n",
       "3                                 Man I love reddit.  0\n",
       "4  [NAME] was nowhere near them, he was by the Fa...  2\n",
       "5  Right? Considering it’s such an important docu...  0"
      ]
     },
     "execution_count": 1,
     "metadata": {},
     "output_type": "execute_result"
    }
   ],
   "source": [
    "import pandas as pd\n",
    "import numpy as np\n",
    "import nltk\n",
    "import string\n",
    "nltk.download('stopwords')\n",
    "from nltk.corpus import stopwords\n",
    "\n",
    "DATASET_PATH = \"go_emotions_dataset.csv\" # path del dataset originale\n",
    "\n",
    "df = pd.read_csv(DATASET_PATH)\n",
    "df.drop_duplicates(subset=\"text\", inplace=True) # remove duplicated comments\n",
    "df = df[df[\"example_very_unclear\"] == False].drop([\"id\",\"example_very_unclear\"], axis=\"columns\") # keep only clear comments and remove unnecessary columns\n",
    "\n",
    "# indice del sentimento : gruppo di appartenenza\n",
    "sent_dict = {0: 0, 1: 0, 2: 1, 3: 1, 4: 0, 5: 0, 6: 2, 7: 2, 8: 0, 9: 1, 10: 1, 11: 1, 12: 1, 13: 0, 14: 1, 15: 0, 16: 1, \n",
    "             17: 0, 18: 0, 19: 1, 20: 0, 21: 0, 22: 2, 23: 0, 24: 1, 25: 1, 26: 2, 27: 2}\n",
    "\n",
    "def create_y(row):\n",
    "    counts = np.zeros(3) # 0 = positive, 1 = negative, 2 = neutral\n",
    "    indexes = np.where(row == 1)[0]\n",
    "    for idx in indexes:\n",
    "        counts[sent_dict[idx]] += 1\n",
    "    return np.argmax(counts)\n",
    "\n",
    "df[\"y\"] = df.iloc[:,1:].apply(lambda x: create_y(x), axis=1) # reduce the y to predict from 28 fine-grained emotions to 3 emotions\n",
    "df.drop(df.columns[1:-1], axis=\"columns\", inplace=True)\n",
    "df.head()"
   ]
  },
  {
   "cell_type": "markdown",
   "metadata": {},
   "source": [
    "Runnare il codice qui sotto solo se vuoi portare tutto a lowercase:"
   ]
  },
  {
   "cell_type": "code",
   "execution_count": 2,
   "metadata": {},
   "outputs": [
    {
     "data": {
      "text/html": [
       "<div>\n",
       "<style scoped>\n",
       "    .dataframe tbody tr th:only-of-type {\n",
       "        vertical-align: middle;\n",
       "    }\n",
       "\n",
       "    .dataframe tbody tr th {\n",
       "        vertical-align: top;\n",
       "    }\n",
       "\n",
       "    .dataframe thead th {\n",
       "        text-align: right;\n",
       "    }\n",
       "</style>\n",
       "<table border=\"1\" class=\"dataframe\">\n",
       "  <thead>\n",
       "    <tr style=\"text-align: right;\">\n",
       "      <th></th>\n",
       "      <th>text</th>\n",
       "      <th>y</th>\n",
       "    </tr>\n",
       "  </thead>\n",
       "  <tbody>\n",
       "    <tr>\n",
       "      <th>0</th>\n",
       "      <td>that game hurt.</td>\n",
       "      <td>1</td>\n",
       "    </tr>\n",
       "    <tr>\n",
       "      <th>2</th>\n",
       "      <td>you do right, if you don't care then fuck 'em!</td>\n",
       "      <td>2</td>\n",
       "    </tr>\n",
       "    <tr>\n",
       "      <th>3</th>\n",
       "      <td>man i love reddit.</td>\n",
       "      <td>0</td>\n",
       "    </tr>\n",
       "    <tr>\n",
       "      <th>4</th>\n",
       "      <td>[name] was nowhere near them, he was by the fa...</td>\n",
       "      <td>2</td>\n",
       "    </tr>\n",
       "    <tr>\n",
       "      <th>5</th>\n",
       "      <td>right? considering it’s such an important docu...</td>\n",
       "      <td>0</td>\n",
       "    </tr>\n",
       "  </tbody>\n",
       "</table>\n",
       "</div>"
      ],
      "text/plain": [
       "                                                text  y\n",
       "0                                    that game hurt.  1\n",
       "2     you do right, if you don't care then fuck 'em!  2\n",
       "3                                 man i love reddit.  0\n",
       "4  [name] was nowhere near them, he was by the fa...  2\n",
       "5  right? considering it’s such an important docu...  0"
      ]
     },
     "execution_count": 2,
     "metadata": {},
     "output_type": "execute_result"
    }
   ],
   "source": [
    "df['text'] = df['text'].str.lower()\n",
    "df.head()"
   ]
  },
  {
   "cell_type": "markdown",
   "metadata": {},
   "source": [
    "Runnare il codice qui sotto solo se vuoi togliere punctuation:"
   ]
  },
  {
   "cell_type": "code",
   "execution_count": 3,
   "metadata": {},
   "outputs": [
    {
     "data": {
      "text/html": [
       "<div>\n",
       "<style scoped>\n",
       "    .dataframe tbody tr th:only-of-type {\n",
       "        vertical-align: middle;\n",
       "    }\n",
       "\n",
       "    .dataframe tbody tr th {\n",
       "        vertical-align: top;\n",
       "    }\n",
       "\n",
       "    .dataframe thead th {\n",
       "        text-align: right;\n",
       "    }\n",
       "</style>\n",
       "<table border=\"1\" class=\"dataframe\">\n",
       "  <thead>\n",
       "    <tr style=\"text-align: right;\">\n",
       "      <th></th>\n",
       "      <th>text</th>\n",
       "      <th>y</th>\n",
       "    </tr>\n",
       "  </thead>\n",
       "  <tbody>\n",
       "    <tr>\n",
       "      <th>0</th>\n",
       "      <td>that game hurt</td>\n",
       "      <td>1</td>\n",
       "    </tr>\n",
       "    <tr>\n",
       "      <th>2</th>\n",
       "      <td>you do right if you dont care then fuck em</td>\n",
       "      <td>2</td>\n",
       "    </tr>\n",
       "    <tr>\n",
       "      <th>3</th>\n",
       "      <td>man i love reddit</td>\n",
       "      <td>0</td>\n",
       "    </tr>\n",
       "    <tr>\n",
       "      <th>4</th>\n",
       "      <td>name was nowhere near them he was by the falcon</td>\n",
       "      <td>2</td>\n",
       "    </tr>\n",
       "    <tr>\n",
       "      <th>5</th>\n",
       "      <td>right considering its such an important docume...</td>\n",
       "      <td>0</td>\n",
       "    </tr>\n",
       "  </tbody>\n",
       "</table>\n",
       "</div>"
      ],
      "text/plain": [
       "                                                text  y\n",
       "0                                     that game hurt  1\n",
       "2         you do right if you dont care then fuck em  2\n",
       "3                                  man i love reddit  0\n",
       "4   name was nowhere near them he was by the falcon   2\n",
       "5  right considering its such an important docume...  0"
      ]
     },
     "execution_count": 3,
     "metadata": {},
     "output_type": "execute_result"
    }
   ],
   "source": [
    "punctuation = str.maketrans('', '', string.punctuation) # dizionario con punctuation da rimuovere (la chiave è il valore ASCII del carattere)\n",
    "\n",
    "# adding some other non-conventional unicode punctuation char codes to remove\n",
    "for x,y in zip(range(8216,8232), range(8242,8248)):\n",
    "    punctuation[x] = None\n",
    "    punctuation[y] = None\n",
    "\n",
    "df[\"text\"] = df['text'].str.translate(punctuation) # lowercase and rimozione punctuation\n",
    "df.head()"
   ]
  },
  {
   "cell_type": "markdown",
   "metadata": {},
   "source": [
    "Runnare il codice qui sotto solo se vuoi togliere le stopwords:"
   ]
  },
  {
   "cell_type": "code",
   "execution_count": 4,
   "metadata": {},
   "outputs": [
    {
     "data": {
      "text/html": [
       "<div>\n",
       "<style scoped>\n",
       "    .dataframe tbody tr th:only-of-type {\n",
       "        vertical-align: middle;\n",
       "    }\n",
       "\n",
       "    .dataframe tbody tr th {\n",
       "        vertical-align: top;\n",
       "    }\n",
       "\n",
       "    .dataframe thead th {\n",
       "        text-align: right;\n",
       "    }\n",
       "</style>\n",
       "<table border=\"1\" class=\"dataframe\">\n",
       "  <thead>\n",
       "    <tr style=\"text-align: right;\">\n",
       "      <th></th>\n",
       "      <th>text</th>\n",
       "      <th>y</th>\n",
       "    </tr>\n",
       "  </thead>\n",
       "  <tbody>\n",
       "    <tr>\n",
       "      <th>0</th>\n",
       "      <td>game hurt</td>\n",
       "      <td>1</td>\n",
       "    </tr>\n",
       "    <tr>\n",
       "      <th>2</th>\n",
       "      <td>right dont care fuck em</td>\n",
       "      <td>2</td>\n",
       "    </tr>\n",
       "    <tr>\n",
       "      <th>3</th>\n",
       "      <td>man love reddit</td>\n",
       "      <td>0</td>\n",
       "    </tr>\n",
       "    <tr>\n",
       "      <th>4</th>\n",
       "      <td>name nowhere near falcon</td>\n",
       "      <td>2</td>\n",
       "    </tr>\n",
       "    <tr>\n",
       "      <th>5</th>\n",
       "      <td>right considering important document know damn...</td>\n",
       "      <td>0</td>\n",
       "    </tr>\n",
       "  </tbody>\n",
       "</table>\n",
       "</div>"
      ],
      "text/plain": [
       "                                                text  y\n",
       "0                                          game hurt  1\n",
       "2                            right dont care fuck em  2\n",
       "3                                    man love reddit  0\n",
       "4                           name nowhere near falcon  2\n",
       "5  right considering important document know damn...  0"
      ]
     },
     "execution_count": 4,
     "metadata": {},
     "output_type": "execute_result"
    }
   ],
   "source": [
    "stop = stopwords.words('english')\n",
    "\n",
    "df['text'] = df['text'].apply(lambda x: ' '.join(word for word in x.split() if word not in stop)) # rimozione stopwords\n",
    "df.head()"
   ]
  },
  {
   "cell_type": "markdown",
   "metadata": {},
   "source": [
    "Runnare il codice qui sotto se vuoi togliere le parole meno frequenti:"
   ]
  },
  {
   "cell_type": "code",
   "execution_count": 4,
   "metadata": {},
   "outputs": [
    {
     "data": {
      "text/html": [
       "<div>\n",
       "<style scoped>\n",
       "    .dataframe tbody tr th:only-of-type {\n",
       "        vertical-align: middle;\n",
       "    }\n",
       "\n",
       "    .dataframe tbody tr th {\n",
       "        vertical-align: top;\n",
       "    }\n",
       "\n",
       "    .dataframe thead th {\n",
       "        text-align: right;\n",
       "    }\n",
       "</style>\n",
       "<table border=\"1\" class=\"dataframe\">\n",
       "  <thead>\n",
       "    <tr style=\"text-align: right;\">\n",
       "      <th></th>\n",
       "      <th>text</th>\n",
       "      <th>y</th>\n",
       "    </tr>\n",
       "  </thead>\n",
       "  <tbody>\n",
       "    <tr>\n",
       "      <th>0</th>\n",
       "      <td>that game hurt</td>\n",
       "      <td>1</td>\n",
       "    </tr>\n",
       "    <tr>\n",
       "      <th>2</th>\n",
       "      <td>if right then do you dont fuck em care</td>\n",
       "      <td>2</td>\n",
       "    </tr>\n",
       "    <tr>\n",
       "      <th>3</th>\n",
       "      <td>man reddit love i</td>\n",
       "      <td>0</td>\n",
       "    </tr>\n",
       "    <tr>\n",
       "      <th>4</th>\n",
       "      <td>them he the was near name by nowhere</td>\n",
       "      <td>2</td>\n",
       "    </tr>\n",
       "    <tr>\n",
       "      <th>5</th>\n",
       "      <td>right i the forwards its backwards thing impor...</td>\n",
       "      <td>0</td>\n",
       "    </tr>\n",
       "  </tbody>\n",
       "</table>\n",
       "</div>"
      ],
      "text/plain": [
       "                                                text  y\n",
       "0                                     that game hurt  1\n",
       "2             if right then do you dont fuck em care  2\n",
       "3                                  man reddit love i  0\n",
       "4               them he the was near name by nowhere  2\n",
       "5  right i the forwards its backwards thing impor...  0"
      ]
     },
     "execution_count": 4,
     "metadata": {},
     "output_type": "execute_result"
    }
   ],
   "source": [
    "word_freq = pd.Series(' '.join(df['text']).split()).value_counts()\n",
    "word_freq = word_freq[(word_freq>4)]\n",
    "\n",
    "def clean_document(document, good_words):\n",
    "    return ' '.join(set(document.split(' ')).intersection(good_words))\n",
    "\n",
    "def clean_dataset(df, word_freq):\n",
    "    df.text = df.text.apply(lambda d: clean_document(d, set(word_freq.index.values)))\n",
    "    \n",
    "clean_dataset(df, word_freq)\n",
    "df = df[df[\"text\"] != '']\n",
    "df.head()"
   ]
  },
  {
   "cell_type": "markdown",
   "metadata": {},
   "source": [
    "Runnare il codice qui sotto solo se vuoi effettuare lemmatization:"
   ]
  },
  {
   "cell_type": "code",
   "execution_count": null,
   "metadata": {},
   "outputs": [],
   "source": [
    "import spacy\n",
    "\n",
    "nlp = spacy.load(\"en_core_web_sm\", disable=['parser', 'ner'])\n",
    "\n",
    "# function to lemmatize text\n",
    "def lemmatization(text):\n",
    "    lemmas = [token.lemma_ for token in nlp(text)]\n",
    "    print(text, lemmas)\n",
    "    return ' '.join(lemmas)\n",
    "\n",
    "df['text'] = df['text'].apply(lambda x: lemmatization(x))\n",
    "df.head()"
   ]
  },
  {
   "cell_type": "markdown",
   "metadata": {},
   "source": [
    "## Alessandro"
   ]
  },
  {
   "cell_type": "markdown",
   "metadata": {},
   "source": [
    "## Davide"
   ]
  },
  {
   "cell_type": "markdown",
   "metadata": {},
   "source": [
    "# BoW (Bag of Words)"
   ]
  },
  {
   "cell_type": "markdown",
   "metadata": {},
   "source": [
    "<a href=\"https://machinelearningmastery.com/gentle-introduction-bag-words-model/\">Bag of Words</a> is a way of extracting features from text, in particular we consider the frequency wherewith a single word occurs in the sentencte. \n",
    "It is called a “bag” of words, because any information about the order or structure of words in the document is discarded. The model is only concerned with whether known words occur in the document, not where in the document.\n",
    "\n",
    "## Example data\n",
    "Let’s say we have a set $D$ of 2 documents:\n",
    "\n",
    "$D$ = {“it was the best of times, it was the worst of times”, “it was the age of wisdom, it was the age of foolishness”}\n",
    "\n",
    "Now we make a set $W$ of all of the words that are present in the set $D$:\n",
    "\n",
    "$W$ = {“age”, “best”, “foolishness”, “it”, “of”, “the”, “times”, “was”, “wisdom”, “worst”}\n",
    "\n",
    "And then, finally, we can create a set $X$ of document vectors (the cell $X_{ij}$ indicates how many times the word $j$ appears in the document $i$):\n",
    "\n",
    "|   | $w_1$ | $w_2$ | $w_3$ | $w_4$ | $w_5$ | $w_6$ | $w_7$ | $w_8$ | $w_9$ | $w_{10}$ |\n",
    "|---|---|---|---|---|---|---|---|---|---|---|\n",
    "| $d_1$ | 0 | 1 | 0 | 2 | 2 | 2 | 2 | 2 | 0 | 1 |\n",
    "| $d_2$ | 2 | 0 | 1 | 2 | 2 | 2 | 0 | 2 | 1 | 0 |"
   ]
  },
  {
   "cell_type": "code",
   "execution_count": 5,
   "metadata": {},
   "outputs": [],
   "source": [
    "import seaborn as sns\n",
    "from sklearn.model_selection import train_test_split\n",
    "from sklearn.metrics import accuracy_score, classification_report, confusion_matrix\n",
    "from sklearn import naive_bayes\n",
    "from sklearn.linear_model import LogisticRegression\n",
    "\n",
    "from sklearn.feature_extraction.text import CountVectorizer\n",
    "from collections import OrderedDict"
   ]
  },
  {
   "cell_type": "code",
   "execution_count": 18,
   "metadata": {},
   "outputs": [
    {
     "data": {
      "text/plain": [
       "\"def get_data(df):\\n    dataset = df.to_dict('records')\\n    X = []\\n    words = set()\\n    for row in dataset:\\n        row['text'] = row['text'].split(' ')\\n        words = words | set(row['text'])\\n    words = sorted(list(words))\\n    index = {x[1] : x[0] for x in enumerate(words)}\\n    for row in dataset:\\n        counter = np.zeros(len(words),dtype='uint32')\\n        for word in row['text']:\\n            counter[index[word]] += 1\\n        X.append(counter)\\n    return (np.array(X), df[['y']].to_numpy(dtype='uint8').T[0])\""
      ]
     },
     "execution_count": 18,
     "metadata": {},
     "output_type": "execute_result"
    }
   ],
   "source": [
    "'''def get_data(df):\n",
    "    dataset = df.to_dict('records')\n",
    "    X = []\n",
    "    words = set()\n",
    "    for row in dataset:\n",
    "        row['text'] = row['text'].split(' ')\n",
    "        words = words | set(row['text'])\n",
    "    words = sorted(list(words))\n",
    "    index = {x[1] : x[0] for x in enumerate(words)}\n",
    "    for row in dataset:\n",
    "        counter = np.zeros(len(words),dtype='uint32')\n",
    "        for word in row['text']:\n",
    "            counter[index[word]] += 1\n",
    "        X.append(counter)\n",
    "    return (np.array(X), df[['y']].to_numpy(dtype='uint8').T[0])'''"
   ]
  },
  {
   "cell_type": "code",
   "execution_count": 6,
   "metadata": {},
   "outputs": [],
   "source": [
    "def get_data(df):\n",
    "    comments = []\n",
    "    for c in df['text']:\n",
    "        comments.append(c)\n",
    "    vectorizer = CountVectorizer(lowercase=False)\n",
    "    X = vectorizer.fit_transform(comments)\n",
    "    return vectorizer.get_feature_names(), X.toarray().astype(np.int32), df[['y']].to_numpy(dtype='uint8').T[0]  "
   ]
  },
  {
   "cell_type": "code",
   "execution_count": 7,
   "metadata": {},
   "outputs": [],
   "source": [
    "def get_random_data(df, n):\n",
    "    rnd_idx = np.random.choice(len(df), n, replace=False)\n",
    "    df = df.iloc[rnd_idx]\n",
    "    return df"
   ]
  },
  {
   "cell_type": "code",
   "execution_count": 8,
   "metadata": {},
   "outputs": [
    {
     "data": {
      "text/plain": [
       "((45442, 7694), (45442,))"
      ]
     },
     "execution_count": 8,
     "metadata": {},
     "output_type": "execute_result"
    }
   ],
   "source": [
    "#X,y = get_data(get_top_data(df, 20000))\n",
    "feature_names, X,y = get_data(df)\n",
    "X_train, X_test, y_train, y_test = train_test_split(X, y, test_size=0.2, random_state=42, stratify=y)\n",
    "X_train.shape, y_train.shape"
   ]
  },
  {
   "cell_type": "code",
   "execution_count": 10,
   "metadata": {},
   "outputs": [
    {
     "data": {
      "text/html": [
       "<div>\n",
       "<style scoped>\n",
       "    .dataframe tbody tr th:only-of-type {\n",
       "        vertical-align: middle;\n",
       "    }\n",
       "\n",
       "    .dataframe tbody tr th {\n",
       "        vertical-align: top;\n",
       "    }\n",
       "\n",
       "    .dataframe thead th {\n",
       "        text-align: right;\n",
       "    }\n",
       "</style>\n",
       "<table border=\"1\" class=\"dataframe\">\n",
       "  <thead>\n",
       "    <tr style=\"text-align: right;\">\n",
       "      <th></th>\n",
       "      <th>word</th>\n",
       "    </tr>\n",
       "  </thead>\n",
       "  <tbody>\n",
       "    <tr>\n",
       "      <th>0</th>\n",
       "      <td>that</td>\n",
       "    </tr>\n",
       "    <tr>\n",
       "      <th>1</th>\n",
       "      <td>game</td>\n",
       "    </tr>\n",
       "    <tr>\n",
       "      <th>2</th>\n",
       "      <td>hurt</td>\n",
       "    </tr>\n",
       "    <tr>\n",
       "      <th>3</th>\n",
       "      <td>if</td>\n",
       "    </tr>\n",
       "    <tr>\n",
       "      <th>4</th>\n",
       "      <td>right</td>\n",
       "    </tr>\n",
       "  </tbody>\n",
       "</table>\n",
       "</div>"
      ],
      "text/plain": [
       "    word\n",
       "0   that\n",
       "1   game\n",
       "2   hurt\n",
       "3     if\n",
       "4  right"
      ]
     },
     "execution_count": 10,
     "metadata": {},
     "output_type": "execute_result"
    }
   ],
   "source": [
    "def get_words(df, feature_names):\n",
    "    words = []\n",
    "    for row in df['text']:\n",
    "        words += row.split(' ')\n",
    "    return [w for w in words if w in feature_names]\n",
    "\n",
    "df_words = pd.DataFrame(list(OrderedDict.fromkeys(get_words(df, feature_names))), columns=['word'])\n",
    "df_words.head()"
   ]
  },
  {
   "cell_type": "markdown",
   "metadata": {},
   "source": [
    "## Naive Bayes"
   ]
  },
  {
   "cell_type": "code",
   "execution_count": 12,
   "metadata": {},
   "outputs": [],
   "source": [
    "multi_NB_model = naive_bayes.MultinomialNB()\n",
    "multi_NB_model = multi_NB_model.fit(X_train, y_train) \n",
    "sk_y = multi_NB_model.predict(X_test)"
   ]
  },
  {
   "cell_type": "markdown",
   "metadata": {},
   "source": [
    "Below are shown some tables with precision, recall and accuracy for each group of sentiment"
   ]
  },
  {
   "cell_type": "code",
   "execution_count": 14,
   "metadata": {},
   "outputs": [
    {
     "name": "stdout",
     "output_type": "stream",
     "text": [
      "              precision    recall  f1-score   support\n",
      "\n",
      "           0       0.66      0.71      0.68      4567\n",
      "           1       0.54      0.43      0.48      2564\n",
      "           2       0.54      0.56      0.55      4172\n",
      "\n",
      "    accuracy                           0.59     11303\n",
      "   macro avg       0.58      0.57      0.57     11303\n",
      "weighted avg       0.59      0.59      0.59     11303\n",
      "\n",
      "[0.71097    0.42550702 0.56495686]\n"
     ]
    },
    {
     "data": {
      "text/plain": [
       "<AxesSubplot:>"
      ]
     },
     "execution_count": 14,
     "metadata": {},
     "output_type": "execute_result"
    },
    {
     "data": {
      "image/png": "[encoded data removed]",
      "text/plain": [
       "<Figure size 432x288 with 2 Axes>"
      ]
     },
     "metadata": {
      "needs_background": "light"
     },
     "output_type": "display_data"
    }
   ],
   "source": [
    "# with naive bayes method, wihout stop words and with text in lower case\n",
    "\n",
    "#y_test, sk_y = np.load('C:\\\\Users\\\\dsant\\\\Desktop\\\\test1_1.npy')\n",
    "#np.save('C:\\\\Users\\\\dsant\\\\Desktop\\\\test1_1.npy', [y_test, sk_y])\n",
    "\n",
    "print(classification_report(y_test, sk_y))\n",
    "cmat = confusion_matrix(y_test, sk_y, normalize='true')\n",
    "print(cmat.diagonal()/cmat.sum(axis=1))\n",
    "sns.heatmap(cmat,annot=True)"
   ]
  },
  {
   "cell_type": "markdown",
   "metadata": {},
   "source": [
    "| Emotion | Precision | Recall | F1-score |\n",
    "|---|---|---|---|\n",
    "| Positive | 0.66 | 0.71 | 0.68 |\n",
    "| Negative | 0.54 | 0.43 | 0.48 |\n",
    "| Ambiguous | 0.54 | 0.56 | 0.55 |"
   ]
  },
  {
   "cell_type": "code",
   "execution_count": 12,
   "metadata": {},
   "outputs": [
    {
     "name": "stdout",
     "output_type": "stream",
     "text": [
      "              precision    recall  f1-score   support\n",
      "\n",
      "           0       0.66      0.73      0.69      4575\n",
      "           1       0.55      0.42      0.48      2571\n",
      "           2       0.57      0.59      0.58      4215\n",
      "\n",
      "    accuracy                           0.61     11361\n",
      "   macro avg       0.59      0.58      0.58     11361\n",
      "weighted avg       0.60      0.61      0.60     11361\n",
      "\n",
      "[0.72655738 0.42201478 0.58647687]\n"
     ]
    },
    {
     "data": {
      "text/plain": [
       "<AxesSubplot:>"
      ]
     },
     "execution_count": 12,
     "metadata": {},
     "output_type": "execute_result"
    },
    {
     "data": {
      "image/png": "[encoded data removed]",
      "text/plain": [
       "<Figure size 432x288 with 2 Axes>"
      ]
     },
     "metadata": {
      "needs_background": "light"
     },
     "output_type": "display_data"
    }
   ],
   "source": [
    "# with naive bayes method, with stop words and with text in lower case\n",
    "\n",
    "np.save('C:\\\\Users\\\\dsant\\\\Desktop\\\\test1_1_2.npy', [y_test, sk_y])\n",
    "#y_test, sk_y = np.load(\"C:\\\\Users\\\\dsant\\\\Desktop\\\\test1_2.npy\")\n",
    "\n",
    "print(classification_report(y_test, sk_y))\n",
    "cmat = confusion_matrix(y_test, sk_y,normalize='true')\n",
    "print(cmat.diagonal()/cmat.sum(axis=1))\n",
    "sns.heatmap(cmat,annot=True)"
   ]
  },
  {
   "cell_type": "markdown",
   "metadata": {},
   "source": [
    "| Emotion | Precision | Recall | F1-score |\n",
    "|---|---|---|---|\n",
    "| Positive | 0.66 | 0.73 | 0.69 |\n",
    "| Negative | 0.55 | 0.42 | 0.48 |\n",
    "| Ambiguous | 0.57 | 0.59 | 0.58 |"
   ]
  },
  {
   "cell_type": "code",
   "execution_count": 14,
   "metadata": {},
   "outputs": [
    {
     "name": "stdout",
     "output_type": "stream",
     "text": [
      "              precision    recall  f1-score   support\n",
      "\n",
      "           0       0.67      0.70      0.68      4573\n",
      "           1       0.54      0.45      0.49      2570\n",
      "           2       0.56      0.59      0.57      4204\n",
      "\n",
      "    accuracy                           0.60     11347\n",
      "   macro avg       0.59      0.58      0.58     11347\n",
      "weighted avg       0.60      0.60      0.60     11347\n",
      "\n",
      "[0.69888476 0.44669261 0.58848716]\n"
     ]
    },
    {
     "data": {
      "text/plain": [
       "<AxesSubplot:>"
      ]
     },
     "execution_count": 14,
     "metadata": {},
     "output_type": "execute_result"
    },
    {
     "data": {
      "image/png": "[encoded data removed]",
      "text/plain": [
       "<Figure size 432x288 with 2 Axes>"
      ]
     },
     "metadata": {
      "needs_background": "light"
     },
     "output_type": "display_data"
    }
   ],
   "source": [
    "# with naive bayes method, with stop words and without text in lower case\n",
    "\n",
    "#y_test, sk_y = np.load(\"C:\\\\Users\\\\dsant\\\\Desktop\\\\test1_3.npy\")\n",
    "np.save('C:\\\\Users\\\\dsant\\\\Desktop\\\\test1_1_3.npy', [y_test, sk_y])\n",
    "\n",
    "print(classification_report(y_test, sk_y))\n",
    "cmat = confusion_matrix(y_test, sk_y,normalize='true')\n",
    "print(cmat.diagonal()/cmat.sum(axis=1))\n",
    "sns.heatmap(cmat,annot=True)"
   ]
  },
  {
   "cell_type": "markdown",
   "metadata": {},
   "source": [
    "| Emotion | Precision | Recall | F1-score |\n",
    "|---|---|---|---|\n",
    "| Positive | 0.67 | 0.70 | 0.68 |\n",
    "| Negative | 0.54 | 0.45 | 0.49 |\n",
    "| Ambiguous | 0.56 | 0.59 | 0.57 |"
   ]
  },
  {
   "cell_type": "code",
   "execution_count": 13,
   "metadata": {},
   "outputs": [
    {
     "name": "stdout",
     "output_type": "stream",
     "text": [
      "              precision    recall  f1-score   support\n",
      "\n",
      "           0       0.66      0.70      0.68      4573\n",
      "           1       0.57      0.43      0.49      2570\n",
      "           2       0.55      0.60      0.57      4204\n",
      "\n",
      "    accuracy                           0.60     11347\n",
      "   macro avg       0.59      0.58      0.58     11347\n",
      "weighted avg       0.60      0.60      0.60     11347\n",
      "\n",
      "[0.70107151 0.42957198 0.59776403]\n"
     ]
    },
    {
     "data": {
      "text/plain": [
       "<AxesSubplot:>"
      ]
     },
     "execution_count": 13,
     "metadata": {},
     "output_type": "execute_result"
    },
    {
     "data": {
      "image/png": "[encoded data removed]",
      "text/plain": [
       "<Figure size 432x288 with 2 Axes>"
      ]
     },
     "metadata": {
      "needs_background": "light"
     },
     "output_type": "display_data"
    }
   ],
   "source": [
    "# with Naive Bayes method and lemmatization\n",
    "\n",
    "np.save('C:\\\\Users\\\\dsant\\\\Desktop\\\\test1_1_4.npy', [y_test, sk_y])\n",
    "#y_test, sk_y = np.load(\"C:\\\\Users\\\\dsant\\\\Desktop\\\\test1_3.npy\")\n",
    "\n",
    "print(classification_report(y_test, sk_y))\n",
    "cmat = confusion_matrix(y_test, sk_y,normalize='true')\n",
    "print(cmat.diagonal()/cmat.sum(axis=1))\n",
    "sns.heatmap(cmat,annot=True)"
   ]
  },
  {
   "cell_type": "markdown",
   "metadata": {},
   "source": [
    "| Emotion | Precision | Recall | Accuracy |\n",
    "|---|---|---|---|\n",
    "| Positive | 0.66 | 0.70 | 0.68 |\n",
    "| Negative | 0.57 | 0.43 | 0.49 |\n",
    "| Ambiguous | 0.55 | 0.60 | 0.57 |"
   ]
  },
  {
   "cell_type": "markdown",
   "metadata": {},
   "source": [
    "## Logistic regression"
   ]
  },
  {
   "cell_type": "code",
   "execution_count": 12,
   "metadata": {},
   "outputs": [],
   "source": [
    "model = LogisticRegression(multi_class='multinomial', max_iter=1000)\n",
    "model = model.fit(X_train, y_train)                  \n",
    "sk_y = model.predict(X_test)"
   ]
  },
  {
   "cell_type": "markdown",
   "metadata": {},
   "source": [
    "Below are shown some tables with precision, recall and accuracy for each group of sentiment"
   ]
  },
  {
   "cell_type": "code",
   "execution_count": 10,
   "metadata": {},
   "outputs": [
    {
     "name": "stdout",
     "output_type": "stream",
     "text": [
      "              precision    recall  f1-score   support\n",
      "\n",
      "           0       0.71      0.68      0.69      4567\n",
      "           1       0.55      0.45      0.49      2564\n",
      "           2       0.56      0.65      0.60      4172\n",
      "\n",
      "    accuracy                           0.62     11303\n",
      "   macro avg       0.61      0.59      0.60     11303\n",
      "weighted avg       0.62      0.62      0.61     11303\n",
      "\n",
      "[0.67768776 0.45124805 0.64908917]\n"
     ]
    },
    {
     "data": {
      "text/plain": [
       "<AxesSubplot:>"
      ]
     },
     "execution_count": 10,
     "metadata": {},
     "output_type": "execute_result"
    },
    {
     "data": {
      "image/png": "[encoded data removed]",
      "text/plain": [
       "<Figure size 432x288 with 2 Axes>"
      ]
     },
     "metadata": {
      "needs_background": "light"
     },
     "output_type": "display_data"
    }
   ],
   "source": [
    "# with logistic regression method, wihout stop words and with text in lower case\n",
    "np.save('C:\\\\Users\\\\dsant\\\\Desktop\\\\test2_1.npy', [y_test, sk_y])\n",
    "print(classification_report(y_test, sk_y))\n",
    "cmat = confusion_matrix(y_test, sk_y, normalize='true')\n",
    "print(cmat.diagonal()/cmat.sum(axis=1))\n",
    "sns.heatmap(cmat,annot=True)"
   ]
  },
  {
   "cell_type": "markdown",
   "metadata": {},
   "source": [
    "| Emotion | Precision | Recall | F1-score |\n",
    "|---|---|---|---|\n",
    "| Positive | 0.71 | 0.68 | 0.69 |\n",
    "| Negative | 0.55 | 0.45 | 0.49 |\n",
    "| Ambiguous | 0.56 | 0.65 | 0.60 |"
   ]
  },
  {
   "cell_type": "code",
   "execution_count": 9,
   "metadata": {},
   "outputs": [
    {
     "name": "stdout",
     "output_type": "stream",
     "text": [
      "              precision    recall  f1-score   support\n",
      "\n",
      "           0       0.71      0.70      0.70      4575\n",
      "           1       0.56      0.46      0.50      2571\n",
      "           2       0.57      0.65      0.61      4215\n",
      "\n",
      "    accuracy                           0.62     11361\n",
      "   macro avg       0.61      0.60      0.60     11361\n",
      "weighted avg       0.62      0.62      0.62     11361\n",
      "\n",
      "[0.69945355 0.45507585 0.6460261 ]\n"
     ]
    },
    {
     "data": {
      "text/plain": [
       "<AxesSubplot:>"
      ]
     },
     "execution_count": 9,
     "metadata": {},
     "output_type": "execute_result"
    },
    {
     "data": {
      "image/png": "[encoded data removed]",
      "text/plain": [
       "<Figure size 432x288 with 2 Axes>"
      ]
     },
     "metadata": {
      "needs_background": "light"
     },
     "output_type": "display_data"
    }
   ],
   "source": [
    "# with logistic regression method, with stop words and with text in lower case\n",
    "np.save('C:\\\\Users\\\\dsant\\\\Desktop\\\\test2_2.npy', [y_test, sk_y])\n",
    "print(classification_report(y_test, sk_y))\n",
    "cmat = confusion_matrix(y_test, sk_y, normalize='true')\n",
    "print(cmat.diagonal()/cmat.sum(axis=1))\n",
    "sns.heatmap(cmat,annot=True)"
   ]
  },
  {
   "cell_type": "markdown",
   "metadata": {},
   "source": [
    "| Emotion | Precision | Recall | Accuracy |\n",
    "|---|---|---|---|\n",
    "| Positive | 0.71 | 0.70 | 0.70 |\n",
    "| Negative | 0.56 | 0.46 | 0.50 |\n",
    "| Ambiguous | 0.57 | 0.65 | 0.61 |"
   ]
  },
  {
   "cell_type": "code",
   "execution_count": 10,
   "metadata": {},
   "outputs": [
    {
     "name": "stdout",
     "output_type": "stream",
     "text": [
      "              precision    recall  f1-score   support\n",
      "\n",
      "           0       0.71      0.67      0.69      4573\n",
      "           1       0.54      0.47      0.50      2570\n",
      "           2       0.56      0.64      0.60      4204\n",
      "\n",
      "    accuracy                           0.61     11347\n",
      "   macro avg       0.60      0.59      0.60     11347\n",
      "weighted avg       0.62      0.61      0.61     11347\n",
      "\n",
      "[0.67133173 0.4688716  0.63725024]\n"
     ]
    },
    {
     "data": {
      "text/plain": [
       "<AxesSubplot:>"
      ]
     },
     "execution_count": 10,
     "metadata": {},
     "output_type": "execute_result"
    },
    {
     "data": {
      "image/png": "[encoded data removed]",
      "text/plain": [
       "<Figure size 432x288 with 2 Axes>"
      ]
     },
     "metadata": {
      "needs_background": "light"
     },
     "output_type": "display_data"
    }
   ],
   "source": [
    "# with logistic regression method, with stop words and without text in lower case\n",
    "np.save('C:\\\\Users\\\\dsant\\\\Desktop\\\\test2_3.npy', [y_test, sk_y])\n",
    "print(classification_report(y_test, sk_y))\n",
    "cmat = confusion_matrix(y_test, sk_y, normalize='true')\n",
    "print(cmat.diagonal()/cmat.sum(axis=1))\n",
    "sns.heatmap(cmat,annot=True)"
   ]
  },
  {
   "cell_type": "markdown",
   "metadata": {},
   "source": [
    "| Emotion | Precision | Recall | F1-score |\n",
    "|---|---|---|---|\n",
    "| Positive | 0.71 | 0.67 | 0.69 |\n",
    "| Negative | 0.54 | 0.47 | 0.50 |\n",
    "| Ambiguous | 0.56 | 0.64 | 0.60 |"
   ]
  },
  {
   "cell_type": "code",
   "execution_count": 30,
   "metadata": {},
   "outputs": [
    {
     "name": "stdout",
     "output_type": "stream",
     "text": [
      "              precision    recall  f1-score   support\n",
      "\n",
      "           0       0.72      0.68      0.70      4573\n",
      "           1       0.57      0.47      0.51      2570\n",
      "           2       0.56      0.66      0.61      4204\n",
      "\n",
      "    accuracy                           0.62     11347\n",
      "   macro avg       0.62      0.60      0.61     11347\n",
      "weighted avg       0.63      0.62      0.62     11347\n",
      "\n",
      "[0.6767986  0.46614786 0.66008563]\n"
     ]
    },
    {
     "data": {
      "text/plain": [
       "<AxesSubplot:>"
      ]
     },
     "execution_count": 30,
     "metadata": {},
     "output_type": "execute_result"
    },
    {
     "data": {
      "image/png": "[encoded data removed]",
      "text/plain": [
       "<Figure size 432x288 with 2 Axes>"
      ]
     },
     "metadata": {
      "needs_background": "light"
     },
     "output_type": "display_data"
    }
   ],
   "source": [
    "# with logistic regression method and lemmatization\n",
    "np.save('C:\\\\Users\\\\dsant\\\\Desktop\\\\test2_4.npy', [y_test, sk_y])\n",
    "print(classification_report(y_test, sk_y))\n",
    "cmat = confusion_matrix(y_test, sk_y, normalize='true')\n",
    "print(cmat.diagonal()/cmat.sum(axis=1))\n",
    "sns.heatmap(cmat,annot=True)"
   ]
  },
  {
   "cell_type": "markdown",
   "metadata": {},
   "source": [
    "| Emotion | Precision | Recall | F1-score |\n",
    "|---|---|---|---|\n",
    "| Positive | 0.72 | 0.68 | 0.70 |\n",
    "| Negative | 0.57 | 0.47 | 0.51 |\n",
    "| Ambiguous | 0.56 | 0.66 | 0.61 |"
   ]
  },
  {
   "cell_type": "code",
   "execution_count": 18,
   "metadata": {},
   "outputs": [],
   "source": [
    "def get_NB_weighted_df(df, model, model_name=''):\n",
    "    ret = df[:]\n",
    "    for i in range(3):\n",
    "        ret[f'class_{i}_weights'+f'_{model_name}' if model_name != '' else ''] = model.feature_log_prob_[i, :]\n",
    "    return ret"
   ]
  },
  {
   "cell_type": "code",
   "execution_count": 13,
   "metadata": {},
   "outputs": [],
   "source": [
    "def get_LR_weighted_df(df, model):\n",
    "    ret = df[:]\n",
    "    for i in range(model.coef_.shape[0]):\n",
    "        ret[f'class_{i}_LR_importance'] = model.coef_[i,:]\n",
    "    return ret"
   ]
  },
  {
   "cell_type": "code",
   "execution_count": 19,
   "metadata": {},
   "outputs": [
    {
     "name": "stderr",
     "output_type": "stream",
     "text": [
      "<ipython-input-18-331c4817df2e>:4: SettingWithCopyWarning: \n",
      "A value is trying to be set on a copy of a slice from a DataFrame.\n",
      "Try using .loc[row_indexer,col_indexer] = value instead\n",
      "\n",
      "See the caveats in the documentation: https://pandas.pydata.org/pandas-docs/stable/user_guide/indexing.html#returning-a-view-versus-a-copy\n",
      "  ret[f'class_{i}_weights'+f'_{model_name}' if model_name != '' else ''] = model.feature_log_prob_[i, :]\n"
     ]
    }
   ],
   "source": [
    "multi_NB_params = get_NB_weighted_df(df_words, model, 'logistic regression')"
   ]
  },
  {
   "cell_type": "code",
   "execution_count": 15,
   "metadata": {},
   "outputs": [
    {
     "name": "stderr",
     "output_type": "stream",
     "text": [
      "<ipython-input-13-c11f889c6377>:4: SettingWithCopyWarning: \n",
      "A value is trying to be set on a copy of a slice from a DataFrame.\n",
      "Try using .loc[row_indexer,col_indexer] = value instead\n",
      "\n",
      "See the caveats in the documentation: https://pandas.pydata.org/pandas-docs/stable/user_guide/indexing.html#returning-a-view-versus-a-copy\n",
      "  ret[f'class_{i}_LR_importance'] = model.coef_[i,:]\n"
     ]
    }
   ],
   "source": [
    "params = get_LR_weighted_df(df_words, model)"
   ]
  },
  {
   "cell_type": "code",
   "execution_count": 16,
   "metadata": {},
   "outputs": [],
   "source": [
    "params.to_csv(\"C:\\\\Users\\\\dsant\\\\Desktop\\\\ale4.csv\")"
   ]
  },
  {
   "cell_type": "code",
   "execution_count": 20,
   "metadata": {},
   "outputs": [
    {
     "data": {
      "text/plain": [
       "(3, 7694)"
      ]
     },
     "execution_count": 20,
     "metadata": {},
     "output_type": "execute_result"
    }
   ],
   "source": [
    "multi_NB_model.feature_log_prob_.shape"
   ]
  },
  {
   "cell_type": "code",
   "execution_count": 21,
   "metadata": {},
   "outputs": [
    {
     "data": {
      "text/plain": [
       "(7694, 1)"
      ]
     },
     "execution_count": 21,
     "metadata": {},
     "output_type": "execute_result"
    }
   ],
   "source": [
    "df_words.shape"
   ]
  },
  {
   "cell_type": "code",
   "execution_count": 22,
   "metadata": {},
   "outputs": [
    {
     "data": {
      "text/plain": [
       "pandas.core.frame.DataFrame"
      ]
     },
     "execution_count": 22,
     "metadata": {},
     "output_type": "execute_result"
    }
   ],
   "source": [
    "type(multi_NB_params)"
   ]
  },
  {
   "cell_type": "code",
   "execution_count": 23,
   "metadata": {},
   "outputs": [],
   "source": [
    "multi_NB_params.to_csv(\"C:\\\\Users\\\\dsant\\\\Desktop\\\\ale3.csv\")"
   ]
  },
  {
   "cell_type": "code",
   "execution_count": 39,
   "metadata": {
    "scrolled": false
   },
   "outputs": [
    {
     "name": "stdout",
     "output_type": "stream",
     "text": [
      "              precision    recall  f1-score   support\n",
      "\n",
      "           0       0.69      0.69      0.69      1609\n",
      "           1       0.56      0.43      0.49       894\n",
      "           2       0.56      0.64      0.60      1497\n",
      "\n",
      "    accuracy                           0.61      4000\n",
      "   macro avg       0.60      0.59      0.59      4000\n",
      "weighted avg       0.61      0.61      0.61      4000\n",
      "\n",
      "[0.69049099 0.43064877 0.63994656]\n"
     ]
    },
    {
     "data": {
      "text/plain": [
       "<AxesSubplot:>"
      ]
     },
     "execution_count": 39,
     "metadata": {},
     "output_type": "execute_result"
    },
    {
     "data": {
      "image/png": "[encoded data removed]",
      "text/plain": [
       "<Figure size 432x288 with 2 Axes>"
      ]
     },
     "metadata": {
      "needs_background": "light"
     },
     "output_type": "display_data"
    }
   ],
   "source": [
    "# with logistic regression method, with stop words and with text in lower case\n",
    "y_test, sk_y = np.load(\"C:\\\\Users\\\\dsant\\\\Desktop\\\\test\\\\test2_4.npy\")\n",
    "print(classification_report(y_test, sk_y))\n",
    "cmat = confusion_matrix(y_test, sk_y, normalize='true')\n",
    "print(cmat.diagonal()/cmat.sum(axis=1))\n",
    "sns.heatmap(cmat,annot=True)"
   ]
  }
 ],
 "metadata": {
  "interpreter": {
   "hash": "916dbcbb3f70747c44a77c7bcd40155683ae19c65e1c03b4aa3499c5328201f1"
  },
  "kernelspec": {
   "display_name": "Python 3",
   "language": "python",
   "name": "python3"
  },
  "language_info": {
   "codemirror_mode": {
    "name": "ipython",
    "version": 3
   },
   "file_extension": ".py",
   "mimetype": "text/x-python",
   "name": "python",
   "nbconvert_exporter": "python",
   "pygments_lexer": "ipython3",
   "version": "3.8.8"
  }
 },
 "nbformat": 4,
 "nbformat_minor": 2
}
